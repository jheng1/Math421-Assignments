{
 "cells": [
  {
   "cell_type": "code",
   "execution_count": 1,
   "metadata": {},
   "outputs": [
    {
     "data": {
      "text/html": [
       "177"
      ],
      "text/latex": [
       "177"
      ],
      "text/markdown": [
       "177"
      ],
      "text/plain": [
       "[1] 177"
      ]
     },
     "metadata": {},
     "output_type": "display_data"
    },
    {
     "data": {
      "text/html": [
       "29.6991176470588"
      ],
      "text/latex": [
       "29.6991176470588"
      ],
      "text/markdown": [
       "29.6991176470588"
      ],
      "text/plain": [
       "[1] 29.69912"
      ]
     },
     "metadata": {},
     "output_type": "display_data"
    },
    {
     "data": {
      "text/html": [
       "0"
      ],
      "text/latex": [
       "0"
      ],
      "text/markdown": [
       "0"
      ],
      "text/plain": [
       "[1] 0"
      ]
     },
     "metadata": {},
     "output_type": "display_data"
    },
    {
     "data": {
      "text/html": [
       "29.6991176470588"
      ],
      "text/latex": [
       "29.6991176470588"
      ],
      "text/markdown": [
       "29.6991176470588"
      ],
      "text/plain": [
       "[1] 29.69912"
      ]
     },
     "metadata": {},
     "output_type": "display_data"
    },
    {
     "data": {
      "text/html": [
       "28.2167300487074"
      ],
      "text/latex": [
       "28.2167300487074"
      ],
      "text/markdown": [
       "28.2167300487074"
      ],
      "text/plain": [
       "[1] 28.21673"
      ]
     },
     "metadata": {},
     "output_type": "display_data"
    },
    {
     "data": {
      "text/html": [
       "60.2875"
      ],
      "text/latex": [
       "60.2875"
      ],
      "text/markdown": [
       "60.2875"
      ],
      "text/plain": [
       "[1] 60.2875"
      ]
     },
     "metadata": {},
     "output_type": "display_data"
    },
    {
     "data": {
      "text/html": [
       "10.5"
      ],
      "text/latex": [
       "10.5"
      ],
      "text/markdown": [
       "10.5"
      ],
      "text/plain": [
       "[1] 10.5"
      ]
     },
     "metadata": {},
     "output_type": "display_data"
    },
    {
     "data": {
      "text/html": [
       "30"
      ],
      "text/latex": [
       "30"
      ],
      "text/markdown": [
       "30"
      ],
      "text/plain": [
       "[1] 30"
      ]
     },
     "metadata": {},
     "output_type": "display_data"
    },
    {
     "data": {
      "text/html": [
       "39.7713075471698"
      ],
      "text/latex": [
       "39.7713075471698"
      ],
      "text/markdown": [
       "39.7713075471698"
      ],
      "text/plain": [
       "[1] 39.77131"
      ]
     },
     "metadata": {},
     "output_type": "display_data"
    },
    {
     "data": {
      "text/html": [
       "107.540707692308"
      ],
      "text/latex": [
       "107.540707692308"
      ],
      "text/markdown": [
       "107.540707692308"
      ],
      "text/plain": [
       "[1] 107.5407"
      ]
     },
     "metadata": {},
     "output_type": "display_data"
    },
    {
     "data": {
      "text/html": [
       "25.18125"
      ],
      "text/latex": [
       "25.18125"
      ],
      "text/markdown": [
       "25.18125"
      ],
      "text/plain": [
       "[1] 25.18125"
      ]
     },
     "metadata": {},
     "output_type": "display_data"
    },
    {
     "data": {
      "text/html": [
       "12.7895875"
      ],
      "text/latex": [
       "12.7895875"
      ],
      "text/markdown": [
       "12.7895875"
      ],
      "text/plain": [
       "[1] 12.78959"
      ]
     },
     "metadata": {},
     "output_type": "display_data"
    },
    {
     "data": {
      "text/plain": [
       "\n",
       "        0         1 \n",
       "0.4028436 0.5971564 "
      ]
     },
     "metadata": {},
     "output_type": "display_data"
    },
    {
     "name": "stdout",
     "output_type": "stream",
     "text": [
      "'data.frame':\t891 obs. of  11 variables:\n",
      " $ Survived: Factor w/ 2 levels \"0\",\"1\": 1 2 2 2 1 1 1 1 2 2 ...\n",
      " $ Pclass  : Factor w/ 3 levels \"1\",\"2\",\"3\": 3 1 3 1 3 3 1 3 3 2 ...\n",
      " $ Sex     : Factor w/ 2 levels \"female\",\"male\": 2 1 1 1 2 2 2 2 1 1 ...\n",
      " $ Age     : num  22 38 26 35 35 ...\n",
      " $ SibSp   : int  1 1 0 1 0 0 0 3 0 1 ...\n",
      " $ Parch   : int  0 0 0 0 0 0 0 1 2 0 ...\n",
      " $ Ticket  : Factor w/ 681 levels \"110152\",\"110413\",..: 524 597 670 50 473 276 86 396 345 133 ...\n",
      " $ Fare    : num  7.25 71.28 7.92 53.1 8.05 ...\n",
      " $ Cabin   : Factor w/ 148 levels \"\",\"A10\",\"A14\",..: 1 83 1 57 1 1 131 1 1 1 ...\n",
      " $ Embarked: Factor w/ 4 levels \"\",\"C\",\"Q\",\"S\": 4 2 4 4 4 3 4 4 4 2 ...\n",
      " $ sfare   : num  6.6 70.64 7.28 52.45 7.4 ...\n"
     ]
    },
    {
     "data": {},
     "metadata": {},
     "output_type": "display_data"
    },
    {
     "data": {},
     "metadata": {},
     "output_type": "display_data"
    },
    {
     "data": {
      "image/png": "[encoded data removed]",
      "text/plain": [
       "plot without title"
      ]
     },
     "metadata": {},
     "output_type": "display_data",
     "source": "R display func"
    },
    {
     "data": {},
     "metadata": {},
     "output_type": "display_data"
    },
    {
     "data": {
      "image/png": "[encoded data removed]",
      "text/plain": [
       "plot without title"
      ]
     },
     "metadata": {},
     "output_type": "display_data",
     "source": "R display func"
    },
    {
     "name": "stdout",
     "output_type": "stream",
     "text": [
      "'data.frame':\t891 obs. of  12 variables:\n",
      " $ Survived: Factor w/ 2 levels \"0\",\"1\": 1 2 2 2 1 1 1 1 2 2 ...\n",
      " $ Pclass  : Factor w/ 3 levels \"1\",\"2\",\"3\": 3 1 3 1 3 3 1 3 3 2 ...\n",
      " $ Sex     : Factor w/ 2 levels \"female\",\"male\": 2 1 1 1 2 2 2 2 1 1 ...\n",
      " $ Age     : num  22 38 26 35 35 ...\n",
      " $ SibSp   : int  1 1 0 1 0 0 0 3 0 1 ...\n",
      " $ Parch   : int  0 0 0 0 0 0 0 1 2 0 ...\n",
      " $ Ticket  : Factor w/ 681 levels \"110152\",\"110413\",..: 524 597 670 50 473 276 86 396 345 133 ...\n",
      " $ Fare    : num  7.25 71.28 7.92 53.1 8.05 ...\n",
      " $ Cabin   : Factor w/ 148 levels \"\",\"A10\",\"A14\",..: 1 83 1 57 1 1 131 1 1 1 ...\n",
      " $ Embarked: Factor w/ 4 levels \"\",\"C\",\"Q\",\"S\": 4 2 4 4 4 3 4 4 4 2 ...\n",
      " $ sfare   : num  6.6 70.64 7.28 52.45 7.4 ...\n",
      " $ cfare   : chr  \"cheap\" \"expensive\" \"cheap\" \"expensive\" ...\n"
     ]
    },
    {
     "name": "stderr",
     "output_type": "stream",
     "text": [
      "The following objects are masked _by_ .GlobalEnv:\n",
      "\n",
      "    cage, sfare\n",
      "\n"
     ]
    },
    {
     "name": "stdout",
     "output_type": "stream",
     "text": [
      "'data.frame':\t891 obs. of  13 variables:\n",
      " $ Survived: Factor w/ 2 levels \"0\",\"1\": 1 2 2 2 1 1 1 1 2 2 ...\n",
      " $ Pclass  : Factor w/ 3 levels \"1\",\"2\",\"3\": 3 1 3 1 3 3 1 3 3 2 ...\n",
      " $ Sex     : Factor w/ 2 levels \"female\",\"male\": 2 1 1 1 2 2 2 2 1 1 ...\n",
      " $ Age     : num  22 38 26 35 35 ...\n",
      " $ SibSp   : int  1 1 0 1 0 0 0 3 0 1 ...\n",
      " $ Parch   : int  0 0 0 0 0 0 0 1 2 0 ...\n",
      " $ Ticket  : Factor w/ 681 levels \"110152\",\"110413\",..: 524 597 670 50 473 276 86 396 345 133 ...\n",
      " $ Fare    : num  7.25 71.28 7.92 53.1 8.05 ...\n",
      " $ Cabin   : Factor w/ 148 levels \"\",\"A10\",\"A14\",..: 1 83 1 57 1 1 131 1 1 1 ...\n",
      " $ Embarked: Factor w/ 4 levels \"\",\"C\",\"Q\",\"S\": 4 2 4 4 4 3 4 4 4 2 ...\n",
      " $ sfare   : num  6.6 70.64 7.28 52.45 7.4 ...\n",
      " $ cfare   : chr  \"cheap\" \"expensive\" \"cheap\" \"expensive\" ...\n",
      " $ cage    : Factor w/ 8 levels \"0\",\"1\",\"2\",\"3\",..: 3 4 3 4 4 3 6 1 3 2 ...\n"
     ]
    },
    {
     "data": {},
     "metadata": {},
     "output_type": "display_data"
    },
    {
     "data": {
      "image/png": "[encoded data removed]",
      "text/plain": [
       "plot without title"
      ]
     },
     "metadata": {},
     "output_type": "display_data",
     "source": "R display func"
    },
    {
     "data": {},
     "metadata": {},
     "output_type": "display_data"
    },
    {
     "data": {
      "image/png": "[encoded data removed]",
      "text/plain": [
       "plot without title"
      ]
     },
     "metadata": {},
     "output_type": "display_data",
     "source": "R display func"
    },
    {
     "data": {
      "image/png": "[encoded data removed]",
      "text/plain": [
       "plot without title"
      ]
     },
     "metadata": {},
     "output_type": "display_data",
     "source": "R display func"
    }
   ],
   "source": [
    "RHW1=read.csv(\"C:/Users/student/Downloads/R/titanic.csv\")\n",
    "RHW1$Survived = factor(RHW1$Survived)\n",
    "RHW1$Pclass = factor(RHW1$Pclass)\n",
    "library(ggplot2)\n",
    "\n",
    "#check missing data- sum how many missing values\n",
    "sum(is.na(RHW1))\n",
    "\n",
    "#replace missing value\n",
    "mean(RHW1$Age,na.rm=TRUE) \n",
    "RHW1[is.na(RHW1$Age),]$Age=mean(RHW1$Age,na.rm=TRUE)\n",
    "sum(is.na(RHW1))\n",
    "\n",
    "#remove ID and name column\n",
    "RHW1$PassengerId= NULL \n",
    "RHW1$Name=NULL\n",
    "#mean age\n",
    "mean(RHW1$Age)\n",
    "\n",
    "#mean age of female\n",
    "mean(RHW1[RHW1$Sex==\"female\",]$Age) \n",
    "\n",
    "#median fare of passengers in Class 1\n",
    "median(RHW1[RHW1$Pclass==1,]$Fare) \n",
    "\n",
    "#median fare not in class 1\n",
    "median(RHW1[!RHW1$Pclass==1,]$Fare)\n",
    "\n",
    "#median age survived female passengers and Class 1 or Class 2\n",
    "median(RHW1[(RHW1$Sex==\"female\") &(RHW1$Survived==1) &((RHW1$Pclass==1)|(RHW1$Pclass==2)),]$Age) \n",
    "\n",
    "#mean fare female teenagers survived\n",
    "mean(RHW1[(RHW1$Sex==\"female\") &(RHW1$Age<20) &(RHW1$Survived==1),]$Fare) \n",
    "\n",
    "#mean fare female teenagers survived in Class 1\n",
    "mean(RHW1[(RHW1$Sex==\"female\") &(RHW1$Age<20) &(RHW1$Survived==1)&(RHW1$Pclass==1),]$Fare) \n",
    "\n",
    "#mean fare female teenagers survived in Class 2\n",
    "mean(RHW1[(RHW1$Sex==\"female\") &(RHW1$Age<20) &(RHW1$Survived==1)&(RHW1$Pclass==2),]$Fare) \n",
    "\n",
    "#mean fare female teenagers survived in Class 3\n",
    "mean(RHW1[(RHW1$Sex==\"female\") &(RHW1$Age<20) &(RHW1$Survived==1)&(RHW1$Pclass==3),]$Fare)\n",
    "\n",
    "#ratio of Survived and not Survived for passengers who pays more than the average fare\n",
    "r1 = RHW1[RHW1$Fare>mean(RHW1$Fare),]\n",
    "prop.table(table(r1$Survived))\n",
    "\n",
    "#standardize fare\n",
    "RHW1$sfare = RHW1$Fare-(mean(RHW1$Fare))/sd(RHW1$Fare)\n",
    "str(RHW1)\n",
    "\n",
    "#Plot bar chart of Sex and Survived for passengers younger than the average age\n",
    "ggplot(RHW1[RHW1$Age<mean(RHW1$Age),])+geom_bar(mapping = aes(x=Sex, fill=Survived), position =\"dodge\")\n",
    "\n",
    "#Plot the density of age of passengers who survived and pay more than the average fare\n",
    "ggplot(RHW1[(RHW1$Fare>mean(RHW1$Fare))&RHW1$Survived==1,], aes(Age))+geom_density()\n",
    "\n",
    "#Plot two density curves in one graph of passengers embarked in Southampton and Queenstown\n",
    "r2 = RHW1[(RHW1$Embarked==\"S\")|(RHW1$Embarked==\"Q\"),]\n",
    "ggplot(r2)+geom_density(mapping = aes(x=Age, color=Embarked))\n",
    "\n",
    "#Add categorical variable named \"cfare\" that takes value \"cheap\" for passengers paying less the average fare and takes value \"expensive\" for passengers paying more than the average fare. \n",
    "RHW1$cfare <- ifelse(RHW1$Fare<mean(RHW1$Fare), c(\"cheap\"), c(\"expensive\"))\n",
    "str(RHW1)\n",
    "\n",
    "#Add categorical variable cage, make cage factor \n",
    "RHW1$cage = RHW1$Age\n",
    "\n",
    "attach(RHW1)\n",
    "RHW1[(RHW1$cage >0) & (RHW1$cage <=10),]$cage <- 0\n",
    "RHW1[(RHW1$cage >10) & (RHW1$cage <=20),]$cage <- 1\n",
    "RHW1[(RHW1$cage >20) & (RHW1$cage <=30),]$cage <- 2\n",
    "RHW1[(RHW1$cage >30) & (RHW1$cage <=40),]$cage <- 3\n",
    "RHW1[(RHW1$cage >40) & (RHW1$cage <=50),]$cage <- 4\n",
    "RHW1[(RHW1$cage >50) & (RHW1$cage <=60),]$cage <- 5\n",
    "RHW1[(RHW1$cage >60) & (RHW1$cage <=70),]$cage <- 6\n",
    "RHW1[(RHW1$cage >70) & (RHW1$cage <=80),]$cage <- 7\n",
    "detach(RHW1)\n",
    "\n",
    "RHW1$cage = factor(RHW1$cage)\n",
    "str(RHW1)\n",
    "\n",
    "#Plot bar chart of two variables cage and Survived for passengers paying more than the average\n",
    "ggplot(RHW1[RHW1$Fare<mean(RHW1$Fare),])+geom_bar(mapping = aes(x=cage, fill=Survived), position =\"dodge\")\n",
    "\n",
    "#Split bar chart by Pclass\n",
    "ggplot(RHW1[RHW1$Fare<mean(RHW1$Fare),])+geom_bar(mapping = aes(x=cage, fill=Survived), position =\"dodge\") +facet_wrap(~Pclass,)\n"
   ]
  },
  {
   "cell_type": "code",
   "execution_count": null,
   "metadata": {},
   "outputs": [],
   "source": []
  }
 ],
 "metadata": {
  "kernelspec": {
   "display_name": "R",
   "language": "R",
   "name": "ir"
  },
  "language_info": {
   "codemirror_mode": "r",
   "file_extension": ".r",
   "mimetype": "text/x-r-source",
   "name": "R",
   "pygments_lexer": "r",
   "version": "3.5.1"
  }
 },
 "nbformat": 4,
 "nbformat_minor": 2
}
